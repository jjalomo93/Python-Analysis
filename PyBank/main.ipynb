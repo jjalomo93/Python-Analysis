{
 "cells": [
  {
   "cell_type": "code",
   "execution_count": 1,
   "metadata": {},
   "outputs": [],
   "source": [
    "# import Path from pathlib and import csv\n",
    "from pathlib import Path\n",
    "import csv"
   ]
  },
  {
   "cell_type": "code",
   "execution_count": 2,
   "metadata": {},
   "outputs": [],
   "source": [
    "# set the file path using pathlib\n",
    "budget_path = Path(\"Resources/budget_data.csv\")"
   ]
  },
  {
   "cell_type": "code",
   "execution_count": 3,
   "metadata": {},
   "outputs": [],
   "source": [
    "# Your task is to create a Python script that analyzes the records to calculate:\n",
    "# The total number of months included in the dataset.\n",
    "# The net total amount of Profit/Losses over the entire period.\n",
    "# The average of the changes in Profit/Losses over the entire period.\n",
    "# The greatest increase in profits (date and amount) over the entire period.\n",
    "# The greatest decrease in losses (date and amount) over the entire period."
   ]
  },
  {
   "cell_type": "code",
   "execution_count": 4,
   "metadata": {},
   "outputs": [],
   "source": [
    "# initialize variables to be analyzed\n",
    "total_months = 0\n",
    "total_profit_loss = 0\n",
    "max_profit = 0\n",
    "max_loss = 0"
   ]
  },
  {
   "cell_type": "code",
   "execution_count": 5,
   "metadata": {},
   "outputs": [],
   "source": [
    "# inititalize dictionary for pnl analysis\n",
    "pnl_analysis = {}\n",
    "date_list = []\n",
    "pnl_list = []"
   ]
  },
  {
   "cell_type": "code",
   "execution_count": 6,
   "metadata": {},
   "outputs": [],
   "source": [
    "# open the csv file as an object\n",
    "with open (budget_path, \"r\") as csvfile:\n",
    "    # pass the csv file to the csv.reader() function as comma delimited\n",
    "    csvreader = csv.reader(csvfile, delimiter=\",\")\n",
    "    # read the header row first\n",
    "    budget_header = next(csvreader)\n",
    "    # read the rows after the header\n",
    "    for row in csvreader:\n",
    "        # set the date and profit/losses variables\n",
    "        # convert profit/losses to integer\n",
    "        date = row[0]\n",
    "        profit_loss = int(row[1])\n",
    "        # create lists from csv file\n",
    "        date_list.append(date)\n",
    "        pnl_list.append(profit_loss)"
   ]
  },
  {
   "cell_type": "code",
   "execution_count": 7,
   "metadata": {},
   "outputs": [],
   "source": [
    "# create total amounts\n",
    "for item in pnl_list:\n",
    "    total_months += 1\n",
    "    total_profit_loss += item"
   ]
  },
  {
   "cell_type": "code",
   "execution_count": 8,
   "metadata": {},
   "outputs": [],
   "source": [
    "# calculate the profit/loss change by month in pnl_list\n",
    "pnl_list_change = [pnl_list[i+1]-pnl_list[i] for i in range(len(pnl_list)-1)]"
   ]
  },
  {
   "cell_type": "code",
   "execution_count": 9,
   "metadata": {},
   "outputs": [],
   "source": [
    "# initialize variables for new list\n",
    "change_total = 0\n",
    "count_total = 0"
   ]
  },
  {
   "cell_type": "code",
   "execution_count": 10,
   "metadata": {},
   "outputs": [],
   "source": [
    "# define max and min profit/loss change in list of changes\n",
    "for value in pnl_list_change:\n",
    "    # calculate the greatest profit and loss\n",
    "    if max_loss == 0:\n",
    "        max_loss = value\n",
    "    elif value < max_loss:\n",
    "        max_loss = value\n",
    "    elif value > max_profit:\n",
    "        max_profit = value\n",
    "    # calculate total and count\n",
    "    change_total += value\n",
    "    count_total += 1"
   ]
  },
  {
   "cell_type": "code",
   "execution_count": 11,
   "metadata": {},
   "outputs": [],
   "source": [
    "# set variables to call the index of the date with greatest increase/decrease\n",
    "max_profit_index = pnl_list_change.index(max_profit)+1\n",
    "max_loss_index = pnl_list_change.index(max_loss)+1"
   ]
  },
  {
   "cell_type": "code",
   "execution_count": 12,
   "metadata": {},
   "outputs": [],
   "source": [
    "# create variables to show the month of greatest increase/decrease\n",
    "max_profit_month = date_list[max_profit_index]\n",
    "max_loss_month = date_list[max_loss_index]"
   ]
  },
  {
   "cell_type": "code",
   "execution_count": 13,
   "metadata": {},
   "outputs": [],
   "source": [
    "# calculate average profit/loss\n",
    "average_profit_loss = round(change_total / count_total,2)"
   ]
  },
  {
   "cell_type": "code",
   "execution_count": 14,
   "metadata": {},
   "outputs": [],
   "source": [
    "# set output path for text file\n",
    "output_path = \"pybank_financial_analysis.txt\""
   ]
  },
  {
   "cell_type": "code",
   "execution_count": 15,
   "metadata": {},
   "outputs": [],
   "source": [
    "# create the output file with summary\n",
    "with open(output_path, \"w\") as file:\n",
    "    file.write(\"Financial Analysis\\n\")\n",
    "    file.write(\"----------------------------\\n\")\n",
    "    file.write(f\"Total Months: {total_months}\\n\")\n",
    "    file.write(f\"Total: ${total_profit_loss}\\n\")\n",
    "    file.write(f\"Average Change: ${average_profit_loss}\\n\")\n",
    "    file.write(f\"Greatest Increase in Profits: {max_profit_month} (${max_profit})\\n\")\n",
    "    file.write(f\"Greatest Decrease in Profits: {max_loss_month} (${max_loss})\")"
   ]
  },
  {
   "cell_type": "code",
   "execution_count": null,
   "metadata": {},
   "outputs": [],
   "source": []
  }
 ],
 "metadata": {
  "kernelspec": {
   "display_name": "Python 3",
   "language": "python",
   "name": "python3"
  },
  "language_info": {
   "codemirror_mode": {
    "name": "ipython",
    "version": 3
   },
   "file_extension": ".py",
   "mimetype": "text/x-python",
   "name": "python",
   "nbconvert_exporter": "python",
   "pygments_lexer": "ipython3",
   "version": "3.8.3"
  }
 },
 "nbformat": 4,
 "nbformat_minor": 4
}
