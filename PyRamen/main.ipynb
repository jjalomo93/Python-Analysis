{
 "cells": [
  {
   "cell_type": "code",
   "execution_count": 1,
   "metadata": {},
   "outputs": [],
   "source": [
    "# import libraries\n",
    "from pathlib import Path\n",
    "import csv"
   ]
  },
  {
   "cell_type": "code",
   "execution_count": 2,
   "metadata": {},
   "outputs": [],
   "source": [
    "# Read in `menu_data.csv` and set its contents to a separate list object.\n",
    "# (This way, you can cross-reference your menu data with your sales data as you read in your sales data in the coming steps.)\n",
    "# set the file path for menu_csv\n",
    "menu_path = Path(\"Resources/menu_data.csv\")"
   ]
  },
  {
   "cell_type": "code",
   "execution_count": 3,
   "metadata": {},
   "outputs": [],
   "source": [
    "# Initialize an empty `menu` list object to hold the contents of `menu_data.csv`.\n",
    "menu = []"
   ]
  },
  {
   "cell_type": "code",
   "execution_count": 4,
   "metadata": {},
   "outputs": [],
   "source": [
    "# Use a `with` statement and open the `menu_data.csv` by using its file path.\n",
    "with open(menu_path, \"r\") as csvfile:\n",
    "    # Use the `reader` function from the `csv` library to begin reading `menu_data.csv`.\n",
    "    menu_reader = csv.reader(csvfile, delimiter=\",\")\n",
    "    # Use the `next` function to skip the header (first row of the CSV).\n",
    "    menu_header = next(menu_reader)\n",
    "    # Loop over the rest of the rows and append every row to the `menu` list object (the outcome will be a list of lists).\n",
    "    for row in menu_reader:\n",
    "        # add items to the menu list\n",
    "        menu.append(row)"
   ]
  },
  {
   "cell_type": "code",
   "execution_count": 5,
   "metadata": {},
   "outputs": [],
   "source": [
    "# Set up the same process to read in `sales_data.csv`. However, instead append every row of the sales data to a new `sales` list object\n",
    "# set the file path for sales_data\n",
    "sales_path = Path(\"Resources/sales_data.csv\")"
   ]
  },
  {
   "cell_type": "code",
   "execution_count": 6,
   "metadata": {},
   "outputs": [],
   "source": [
    "# Initialize an empty 'sales' list object to hold the contents of 'sales_data.csv'\n",
    "sales = []"
   ]
  },
  {
   "cell_type": "code",
   "execution_count": 7,
   "metadata": {},
   "outputs": [],
   "source": [
    "# Use a `with` statement and open the `sales_data.csv` by using its file path.\n",
    "with open(sales_path, \"r\") as csvfile:\n",
    "    # Use the `reader` function from the `csv` library to begin reading `menu_data.csv`.\n",
    "    sales_reader = csv.reader(csvfile, delimiter=\",\")\n",
    "    # Use the `next` function to skip the header (first row of the CSV).\n",
    "    sales_header = next(sales_reader)\n",
    "    # Loop over the rest of the rows and append every row to the `menu` list object (the outcome will be a list of lists).\n",
    "    for row in sales_reader:\n",
    "        # add items to the menu list\n",
    "        sales.append(row)"
   ]
  },
  {
   "cell_type": "code",
   "execution_count": 8,
   "metadata": {},
   "outputs": [],
   "source": [
    "# Initialize an empty `report` dictionary to hold the future aggregated per-product results.\n",
    "# The `report` dictionary will eventually contain the following metrics:\n",
    "# * `01-count`: the total quantity for each ramen type\n",
    "# * `02-revenue`: the total revenue for each ramen type\n",
    "# * `03-cogs`: the total cost of goods sold for each ramen type\n",
    "# * `04-profit`: the total profit for each ramen type\n",
    "report = {}"
   ]
  },
  {
   "cell_type": "code",
   "execution_count": 9,
   "metadata": {},
   "outputs": [],
   "source": [
    "# Then, loop through every row in the `sales` list object.\n",
    "for sales_data in sales:\n",
    "    # For each row of the `sales` data, set the following columns of the sales data to their own variables:\n",
    "    # * Quantity\n",
    "    # * Menu_Item\n",
    "    quantity = int(sales_data[3])\n",
    "    menu_item = sales_data[4]\n",
    "    # define variable for the record\n",
    "    record = {\"01-count\": 0, \"02-revenue\": 0, \"03-cogs\": 0, \"04-profit\": 0,}\n",
    "    # Perform a quick check if the `sales_item` is already included in the `report`.\n",
    "    if menu_item not in report:\n",
    "        # If not, initialize the key-value pairs for the particular `sales_item` in the report.\n",
    "        # Then, set the `sales_item` as a new key to the `report` dictionary and the values as a nested dictionary containing the record\n",
    "        report[menu_item] = record\n",
    "    # set the elif to add the \"quantity\" data to the count\n",
    "    if menu_item in report:\n",
    "        report[menu_item][\"01-count\"] += quantity"
   ]
  },
  {
   "cell_type": "code",
   "execution_count": 11,
   "metadata": {},
   "outputs": [],
   "source": [
    "# Create a nested loop by looping through every record in 'menu'\n",
    "for sales_data in sales:\n",
    "    # set the values to compare against menu data\n",
    "    quantity = int(sales_data[3])\n",
    "    menu_item = sales_data[4]\n",
    "    \n",
    "    for menu_data in menu:\n",
    "        # For each row of the `menu` data, set the following columns of the menu data to their own variables:\n",
    "        item = menu_data[0]\n",
    "        price = float(menu_data[3]) # float because there are decimals in price data\n",
    "        cost = int(menu_data[4])\n",
    "        # If the `sales_item` in sales is equal to the `item` in `menu`\n",
    "        # capture the `quantity` from the sales data and the `price` and `cost` from the menu data to calculate the `profit` for each item.\n",
    "        if menu_item == item:\n",
    "            report[item][\"02-revenue\"] += (quantity * price)\n",
    "            report[item][\"03-cogs\"] += (quantity * cost)\n",
    "        # else:\n",
    "            # print(f\"{menu_item} does not equal {item}! NO MATCH!)"
   ]
  },
  {
   "cell_type": "code",
   "execution_count": 14,
   "metadata": {},
   "outputs": [],
   "source": [
    "# define and add the profit to the report (revenue - cogs)\n",
    "# use nested for loop to calculate at the individual level\n",
    "for menu_item, value_dict in report.items():\n",
    "    for key in value_dict:\n",
    "        # define the revenue, cogs, and profit variables\n",
    "        revenue = report[menu_item][\"02-revenue\"]\n",
    "        cogs = report[menu_item][\"03-cogs\"]\n",
    "        profit = (revenue - cogs)\n",
    "        \n",
    "        # set the profit based on the \"04-profit\" key value\n",
    "        if key == \"04-profit\":\n",
    "            report[menu_item][key] = profit"
   ]
  },
  {
   "cell_type": "code",
   "execution_count": 17,
   "metadata": {},
   "outputs": [],
   "source": [
    "# print(report) to check values"
   ]
  },
  {
   "cell_type": "code",
   "execution_count": 20,
   "metadata": {},
   "outputs": [],
   "source": [
    "# set the output path for the text file\n",
    "output_path = \"pyramen_results.txt\""
   ]
  },
  {
   "cell_type": "code",
   "execution_count": 21,
   "metadata": {},
   "outputs": [],
   "source": [
    "# write the text file\n",
    "with open(output_path, \"w\") as file:\n",
    "    for key in report:\n",
    "        file.write(f\"{key} {report[key]}\\n\")"
   ]
  }
 ],
 "metadata": {
  "kernelspec": {
   "display_name": "Python 3",
   "language": "python",
   "name": "python3"
  },
  "language_info": {
   "codemirror_mode": {
    "name": "ipython",
    "version": 3
   },
   "file_extension": ".py",
   "mimetype": "text/x-python",
   "name": "python",
   "nbconvert_exporter": "python",
   "pygments_lexer": "ipython3",
   "version": "3.8.3"
  }
 },
 "nbformat": 4,
 "nbformat_minor": 4
}
